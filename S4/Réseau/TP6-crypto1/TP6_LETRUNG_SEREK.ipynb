{
 "cells": [
  {
   "cell_type": "markdown",
   "metadata": {
    "id": "D7O8pKiLEmkc"
   },
   "source": [
    "## **TP6 : Cryptographie symétrique**\n",
    "\n",
    "\n",
    "# 1.   Mise en bouche\n",
    "\n",
    "Créer une classe `Cesar` contenant en attribut la clé : le constructeur initialise la clé avec son argument, et avec une valeur aléatoire si aucun argument ni fournis. Implémenter deux méthodes permettant de chiffrer et déchiffrer un message. **Important : dans ce TP, on considère des messages sur 27 caractères (A-Z + espace), où les espaces ne sont pas modifiés lors du chiffrement. Pourquoi n'est-ce pas (trop) restrictif ?**\n",
    "\n",
    "Écrire ensuite trois fonctions permettant de déterminer la clé utilisée par un chiffrement de César. Chacune de ces fonction pourra utiliser les différents niveaux d’attaque suivants :\n",
    "*   Texte chiffré choisi : elle prend en argument un objet `Cesar` et peut utiliser la méthode de déchiffrement.\n",
    "*   Texte clair choisi : elle prend en argument un objet `Cesar` et peut seulement utiliser la méthode de chiffrement.\n",
    "*   Texte clair connu : elle prend en argument deux chaînes (correspondant au message en clair et chiffré).\n",
    "\n",
    "Avant de s’attaquer au dernier niveau (texte chiffré seul), il faut développer quelques outils."
   ]
  },
  {
   "cell_type": "code",
   "execution_count": 85,
   "metadata": {
    "id": "aaxAeDJrl6Y9",
    "ExecuteTime": {
     "end_time": "2024-03-11T17:00:33.376219Z",
     "start_time": "2024-03-11T17:00:28.265991Z"
    }
   },
   "outputs": [
    {
     "name": "stdout",
     "output_type": "stream",
     "text": [
      "Le chiffrement de dsqsdf par la clé 3 est : gvtvgi\n",
      "Le déchiffrement de sdfsdg par la clé 3 est : pacpad\n",
      "Les possibilités de déchiffrement de sdfsdg sont :\n",
      "Clé : 0, Texte clair : sdfsdg\n",
      "Clé : 1, Texte clair : rcercf\n",
      "Clé : 2, Texte clair : qbdqbe\n",
      "Clé : 3, Texte clair : pacpad\n",
      "Clé : 4, Texte clair : ozbozc\n",
      "Clé : 5, Texte clair : nyanyb\n",
      "Clé : 6, Texte clair : mxzmxa\n",
      "Clé : 7, Texte clair : lwylwz\n",
      "Clé : 8, Texte clair : kvxkvy\n",
      "Clé : 9, Texte clair : juwjux\n",
      "Clé : 10, Texte clair : itvitw\n",
      "Clé : 11, Texte clair : hsuhsv\n",
      "Clé : 12, Texte clair : grtgru\n",
      "Clé : 13, Texte clair : fqsfqt\n",
      "Clé : 14, Texte clair : epreps\n",
      "Clé : 15, Texte clair : doqdor\n",
      "Clé : 16, Texte clair : cnpcnq\n",
      "Clé : 17, Texte clair : bmobmp\n",
      "Clé : 18, Texte clair : alnalo\n",
      "Clé : 19, Texte clair : zkmzkn\n",
      "Clé : 20, Texte clair : yjlyjm\n",
      "Clé : 21, Texte clair : xikxil\n",
      "Clé : 22, Texte clair : whjwhk\n",
      "Clé : 23, Texte clair : vgivgj\n",
      "Clé : 24, Texte clair : ufhufi\n",
      "Clé : 25, Texte clair : tegteh\n",
      "la clé de chiffrement est : 17\n",
      "La clé de chiffrement est : 17\n",
      "la clé de chiffrement est : 15\n"
     ]
    },
    {
     "data": {
      "text/plain": "15"
     },
     "execution_count": 85,
     "metadata": {},
     "output_type": "execute_result"
    }
   ],
   "source": [
    "from random import randint\n",
    "\n",
    "class Cesar:\n",
    "    def __init__(self, key=None):\n",
    "        if key is None:\n",
    "            key = randint(0, 26)\n",
    "        self.key = key\n",
    "\n",
    "    def encode(self, plain):\n",
    "        cipher = \"\"\n",
    "        for char in plain:\n",
    "            if char.isalpha():  # Vérifiez si le caractère est une lettre\n",
    "                shifted = ord(char) + self.key\n",
    "                if char.islower():\n",
    "                    if shifted > ord('z'):\n",
    "                        shifted -= 26\n",
    "                    elif shifted < ord('a'):\n",
    "                        shifted += 26\n",
    "                elif char.isupper():\n",
    "                    if shifted > ord('Z'):\n",
    "                        shifted -= 26\n",
    "                    elif shifted < ord('A'):\n",
    "                        shifted += 26\n",
    "                cipher += chr(shifted)\n",
    "            else:\n",
    "                cipher += char  # Si ce n'est pas une lettre, conservez le caractère tel quel\n",
    "        return cipher\n",
    "\n",
    "    def decode(self, cipher):\n",
    "        plain = \"\"\n",
    "        for char in cipher:\n",
    "            if char.isalpha():\n",
    "                shifted = ord(char) - self.key\n",
    "                if char.islower():\n",
    "                    if shifted > ord('z'):\n",
    "                        shifted -= 26\n",
    "                    elif shifted < ord('a'):\n",
    "                        shifted += 26\n",
    "                elif char.isupper():\n",
    "                    if shifted > ord('Z'):\n",
    "                        shifted -= 26\n",
    "                    elif shifted < ord('A'):\n",
    "                        shifted += 26\n",
    "                plain += chr(shifted)\n",
    "            else:\n",
    "                plain += char\n",
    "        return plain\n",
    "\n",
    "def bruteforce_decrypt(cesar, cipher):\n",
    "    assert isinstance(cesar, Cesar)\n",
    "\n",
    "    print(\"Les possibilités de déchiffrement de {} sont :\".format(cipher))\n",
    "    for i in range(26):\n",
    "        cesar.key = i\n",
    "        plain = cesar.decode(cipher)\n",
    "        print(\"Clé : {}, Texte clair : {}\".format(i, plain))\n",
    "\n",
    "\n",
    "def chosen_cipher(cesar):\n",
    "    assert isinstance(cesar, Cesar)\n",
    "    #déduire la clé en utilisant cesar.decode()\n",
    "\n",
    "    key = 26 - ord(cesar.decode('A'))%65\n",
    "\n",
    "    print(\"la clé de chiffrement est : {}\".format(key))\n",
    "    return key\n",
    "\n",
    "def chosen_plain(cesar):\n",
    "    assert isinstance(cesar, Cesar)\n",
    "    \n",
    "    # Texte clair choisi\n",
    "    known_plain = \"A\"\n",
    "    \n",
    "    # Chiffrer le texte clair choisi\n",
    "    cipher = cesar.encode(known_plain)\n",
    "    \n",
    "    # Calculer la différence entre la première lettre du texte chiffré et la première lettre du texte clair choisi\n",
    "    # pour trouver la clé\n",
    "    key = (ord(cipher) - ord(known_plain)) % 26\n",
    "\n",
    "    print(\"La clé de chiffrement est : {}\".format(key))\n",
    "    return key\n",
    "\n",
    "\n",
    "\n",
    "\n",
    "def known_plain(plain, cipher):\n",
    "    # Connaissant le texte clair et le texte chiffré,\n",
    "    # vous pouvez calculer directement la clé utilisée\n",
    "    key = (ord(cipher[0]) - ord(plain[0])) % 26\n",
    "    print(\"la clé de chiffrement est : {}\".format(key))\n",
    "    return key\n",
    "\n",
    "\n",
    "key = int(input(\"Veuillez saisir une clé de chiffrement ('-1' pour une clé aléatoire) :\"))\n",
    "cesar = Cesar() if key<0 else Cesar(key)\n",
    "\n",
    "plain = input(\"Veuillez saisir un texte à chiffrer par la clé {}:\".format(cesar.key))\n",
    "\n",
    "print(\"Le chiffrement de {} par la clé {} est : {}\".format(plain, cesar.key, cesar.encode(plain)))\n",
    "\n",
    "cipher = input(\"Veuillez saisir un texte à déchiffrer par la clé {}:\".format(cesar.key))\n",
    "\n",
    "print(\"Le déchiffrement de {} par la clé {} est : {}\".format(cipher, cesar.key, cesar.decode(cipher)))\n",
    "\n",
    "# Ajoutez vos tests\n",
    "bruteforce_decrypt(cesar, cipher)\n",
    "chosen_cipher(Cesar(17))\n",
    "chosen_plain(Cesar(17))\n",
    "known_plain(plain, cipher)"
   ]
  },
  {
   "cell_type": "markdown",
   "metadata": {
    "id": "NhUEGqeMRlOR"
   },
   "source": [
    "# 2.   Boîte à outils\n",
    "Implémenter des fonctions permettant de :\n",
    "*   Calculer les fréquences de chaque lettre dans un message.\n",
    "*   Calculer la distance (somme des valeurs absolues des différences) entre un tableau de fréquences et celui du français (en %)\n",
    "\n",
    "|lettre|fréquence|\n",
    "|:-:|:-:|\n",
    "|A|8.15|\n",
    "|B|0.97|\n",
    "|C|3.15|\n",
    "|D|3.73|\n",
    "|E|17.39|\n",
    "|F|1.12|\n",
    "|G|0.97|\n",
    "|H|0.85|\n",
    "|I|7.31|\n",
    "|J|0.45|\n",
    "|K|0.02|\n",
    "|L|5.69|\n",
    "|M|2.87|\n",
    "|N|7.12|\n",
    "|O|5.28|\n",
    "|P|2.80|\n",
    "|Q|1.21|\n",
    "|R|6.64|\n",
    "|S|8.14|\n",
    "|T|7.22|\n",
    "|U|6.38|\n",
    "|V|1.64|\n",
    "|W|0.03|\n",
    "|X|0.41|\n",
    "|Y|0.28|\n",
    "|Z|0.15|\n",
    "\n",
    "*   calculer l’indice de coïncidence \n",
    "\n"
   ]
  },
  {
   "cell_type": "code",
   "execution_count": 86,
   "metadata": {
    "id": "4utDBhBRDUfF",
    "ExecuteTime": {
     "end_time": "2024-03-11T17:00:34.216532Z",
     "start_time": "2024-03-11T17:00:33.378220Z"
    }
   },
   "outputs": [
    {
     "name": "stdout",
     "output_type": "stream",
     "text": [
      "Les fréquences sont : \n",
      " {'A': 0.0, 'B': 0.0, 'C': 0.0, 'D': 25.0, 'E': 0.0, 'F': 25.0, 'G': 25.0, 'H': 0.0, 'I': 0.0, 'J': 0.0, 'K': 0.0, 'L': 0.0, 'M': 0.0, 'N': 0.0, 'O': 0.0, 'P': 0.0, 'Q': 0.0, 'R': 0.0, 'S': 25.0, 'T': 0.0, 'U': 0.0, 'V': 0.0, 'W': 0.0, 'X': 0.0, 'Y': 0.0, 'Z': 0.0}\n",
      "La distance par rapport au tableau de fréquences du français est : 172.04999999999998\n",
      " l’indice de coïncidence est : 0.0\n"
     ]
    }
   ],
   "source": [
    "import string\n",
    "\n",
    "fr_frequencies = {'A' : 8.15,\\\n",
    "                  'B' : 0.97,\\\n",
    "                  'C' : 3.15,\\\n",
    "                  'D' : 3.73,\\\n",
    "                  'E' : 17.39,\\\n",
    "                  'F' : 1.12,\\\n",
    "                  'G' : 0.97,\\\n",
    "                  'H' : 0.85,\\\n",
    "                  'I' : 7.31,\\\n",
    "                  'J' : 0.45,\\\n",
    "                  'K' : 0.02,\\\n",
    "                  'L' : 5.69,\\\n",
    "                  'M' : 2.87,\\\n",
    "                  'N' : 7.12,\\\n",
    "                  'O' : 5.28,\\\n",
    "                  'P' : 2.80,\\\n",
    "                  'Q' : 1.21,\\\n",
    "                  'R' : 6.64,\\\n",
    "                  'S' : 8.14,\\\n",
    "                  'T' : 7.22,\\\n",
    "                  'U' : 6.38,\\\n",
    "                  'V' : 1.64,\\\n",
    "                  'W' : 0.03,\\\n",
    "                  'X' : 0.41,\\\n",
    "                  'Y' : 0.28,\\\n",
    "                  'Z' : 0.15}\n",
    "\n",
    "def calcul_iterations_letter_message(message):\n",
    "    iterationByLetter = {}\n",
    "    message = message.upper()\n",
    "    for lettre in string.ascii_uppercase:\n",
    "        iterationByLetter[lettre] = 0\n",
    "\n",
    "    for lettre in message:\n",
    "        if lettre.isalpha():\n",
    "            iterationByLetter[lettre] += 1\n",
    "\n",
    "    return iterationByLetter\n",
    "\n",
    "def frequencies(message):\n",
    "    f = {}\n",
    "    \n",
    "    dictionnaire_iterations = calcul_iterations_letter_message(message)\n",
    "    len_message = sum(dictionnaire_iterations.values())\n",
    "\n",
    "    for lettre, iterations in dictionnaire_iterations.items():\n",
    "        f[lettre] = (iterations / len_message) * 100\n",
    "\n",
    "    return f, len_message\n",
    "\n",
    "\n",
    "def abs_distance(calculated_frequencies, target_frequencies, shift=0):\n",
    "    distance = 0\n",
    "    for lettre in calculated_frequencies:\n",
    "        difference = calculated_frequencies[lettre] - target_frequencies[lettre]\n",
    "        distance += abs(difference)\n",
    "\n",
    "    return distance\n",
    "\n",
    "\n",
    "def coincidence_index(calculated_occurrences, len_message):\n",
    "    somme_freq = sum(iteration * (iteration - 1) for iteration in calculated_occurrences.values())\n",
    "    indice_coincidence = somme_freq / (len_message * (len_message - 1))\n",
    "    return indice_coincidence\n",
    "\n",
    "msg_fq_test = input(\"Veuillez saisir un texte pour tester la class Decrypt\")\n",
    "fq, len_msg = frequencies(msg_fq_test)\n",
    "print(\"Les fréquences sont : \\n {}\".format(fq))\n",
    "\n",
    "print(\"La distance par rapport au tableau de fréquences du français est : {}\".format(abs_distance(fq, fr_frequencies)))\n",
    "\n",
    "print(\" l’indice de coïncidence est : {}\".format(coincidence_index(calcul_iterations_letter_message(msg_fq_test), len_msg)))"
   ]
  },
  {
   "cell_type": "markdown",
   "metadata": {
    "id": "0Xq0OQa8VrqO"
   },
   "source": [
    "Utiliser ces fonctions pour déterminer la clé la plus probable dans une attaque de type texte chiffré seul. \n",
    "\n",
    "Pouvez-vous décoder le message suivant ?\n",
    "\n",
    "*VK MSQKVO KIKXD MRKXDO DYED VODO CO DBYEFK PYBD NOZYEBFEO AEKXN VK LSCO PED FOXEO*\n",
    "\n",
    "Oui, le texte déchiffré donne : LA CIGALE AYANT CHANTE TOUT LETE SE TROUVA FORT DEPOURVUE QUAND LA BISE FUT VENUE. Pour ce faire, on a utilisé notre fonction calculant la fréquence de chaque lettre dans un message, et on a attribué la lettre avec la plus grande fréquence comme correspondant à la lettre “E” (lettre la plus utilisée dans l’alphabet français). On calcule ensuite l’écart entre ces deux lettres et nous n'avons plus qu'à décoder le message avec cet écart."
   ]
  },
  {
   "cell_type": "code",
   "execution_count": 87,
   "metadata": {
    "id": "vP3VukUPfza5",
    "ExecuteTime": {
     "end_time": "2024-03-11T17:00:34.232003Z",
     "start_time": "2024-03-11T17:00:34.217674Z"
    }
   },
   "outputs": [
    {
     "name": "stdout",
     "output_type": "stream",
     "text": [
      "L'indice de coïncidence de votre séquence est : 0.06829488919041157 \n",
      " La clé la plus probable est 10 \n",
      " Le message déchiffré est \n",
      " LA CIGALE AYANT CHANTE TOUT LETE SE TROUVA FORT DEPOURVUE QUAND LA BISE FUT VENUE\n"
     ]
    }
   ],
   "source": [
    "def cipher_only(cipher):\n",
    "    freq, len_cipher = frequencies(cipher)\n",
    "    max_freq_letter = max(freq, key=freq.get)\n",
    "\n",
    "    max_freq_position = ord(max_freq_letter.lower()) - ord('a')\n",
    "    e_position = ord('e') - ord('a')\n",
    "    key = (max_freq_position - e_position) % 26\n",
    "    coincidence = coincidence_index(calcul_iterations_letter_message(cipher), len_cipher)\n",
    "    cesar = Cesar(key)\n",
    "    plain = cesar.decode(cipher)\n",
    "    \n",
    "    return plain, key, coincidence\n",
    "\n",
    "cipher = \"VK MSQKVO KIKXD MRKXDO DYED VODO CO DBYEFK PYBD NOZYEBFEO AEKXN VK LSCO PED FOXEO\"\n",
    "plain, key, coincidence = cipher_only(cipher)\n",
    "print(\"L'indice de coïncidence de votre séquence est : {} \\n La clé la plus probable est {} \\n Le message déchiffré est \\n {}\".format(coincidence, key, plain))\n"
   ]
  },
  {
   "cell_type": "markdown",
   "metadata": {
    "id": "Zgc0XpnTKe_m"
   },
   "source": [
    "# 3.   Substitution\n",
    "Adapter la classe `Cesar` pour chiffrer et déchiffrer par substitution. Implémenter des méthodes d'attaque dans les cadres de texte chiffré choisi, texte clair choisi et texte clair connu. Essayez de décrypter quelques messages (assez longs). "
   ]
  },
  {
   "cell_type": "code",
   "execution_count": 88,
   "metadata": {
    "id": "4W6ZNSbSKfnv",
    "ExecuteTime": {
     "end_time": "2024-03-11T17:00:34.247440Z",
     "start_time": "2024-03-11T17:00:34.234483Z"
    }
   },
   "outputs": [
    {
     "name": "stdout",
     "output_type": "stream",
     "text": [
      "{'A': 'R', 'B': 'Y', 'C': 'B', 'D': 'Z', 'E': 'W', 'F': 'S', 'G': 'U', 'H': 'D', 'I': 'F', 'J': 'I', 'K': 'H', 'L': 'T', 'M': 'N', 'N': 'L', 'O': 'A', 'P': 'E', 'Q': 'K', 'R': 'G', 'S': 'C', 'T': 'P', 'U': 'Q', 'V': 'X', 'W': 'O', 'X': 'V', 'Y': 'M', 'Z': 'J'}\n",
      "{'R': 'A', 'Y': 'B', 'B': 'C', 'Z': 'D', 'W': 'E', 'S': 'F', 'U': 'G', 'D': 'H', 'F': 'I', 'I': 'J', 'H': 'K', 'T': 'L', 'N': 'M', 'L': 'N', 'A': 'O', 'E': 'P', 'K': 'Q', 'G': 'R', 'C': 'S', 'P': 'T', 'Q': 'U', 'X': 'V', 'O': 'W', 'V': 'X', 'M': 'Y', 'J': 'Z'}\n",
      "TR BFURTW RMRLP BDRLPW PAQP TWPW CW PGAQXR SAGP ZWEAQGXQW KQRLZ TR YFCW SQP XWLQW\n",
      "LA CIGALE AYANT CHANTE TOUT LETE SE TROUVA FORT DEPOURVUE QUAND LA BISE FUT VENUE\n",
      "la clé de chiffrement est : {'L': 'T', 'A': 'R', 'C': 'B', 'I': 'F', 'G': 'U', 'E': 'W', 'Y': 'M', 'N': 'L', 'T': 'P', 'H': 'D', 'O': 'A', 'U': 'Q', 'S': 'C', 'R': 'G', 'V': 'X', 'F': 'S', 'D': 'Z', 'P': 'E', 'Q': 'K', 'B': 'Y'}\n",
      "la clé de chiffrement est : {'O': 'A', 'C': 'B', 'S': 'C', 'H': 'D', 'P': 'E', 'I': 'F', 'R': 'G', 'K': 'H', 'J': 'I', 'Z': 'J', 'Q': 'K', 'N': 'L', 'Y': 'M', 'M': 'N', 'W': 'O', 'T': 'P', 'U': 'Q', 'A': 'R', 'F': 'S', 'L': 'T', 'G': 'U', 'X': 'V', 'E': 'W', 'V': 'X', 'B': 'Y', 'D': 'Z'}\n",
      "la clé de chiffrement est : RYBZWSUDFIHTNLAEKGCPQXOVMJ\n"
     ]
    }
   ],
   "source": [
    "from random import shuffle\n",
    "\n",
    "class Subs:\n",
    "    def __init__(self, key=None):\n",
    "        if key is None:\n",
    "            # Si aucune clé n'est fournie, générer une clé aléatoire\n",
    "            alphabet = list('ABCDEFGHIJKLMNOPQRSTUVWXYZ')\n",
    "            shuffled_alphabet = list('ABCDEFGHIJKLMNOPQRSTUVWXYZ')\n",
    "            shuffle(shuffled_alphabet)\n",
    "            self.key = dict(zip(alphabet, shuffled_alphabet))\n",
    "            self.key_inv = dict(zip(shuffled_alphabet, alphabet))\n",
    "        else:\n",
    "            # Utiliser la clé fournie\n",
    "            self.key = key\n",
    "            self.key_inv = {v: k for k, v in key.items()}  # Construire la clé inverse\n",
    "\n",
    "    def encode(self, plain):\n",
    "        cipher = \"\"\n",
    "        for char in plain.upper():\n",
    "            if char.isalpha():  # Vérifier si le caractère est une lettre\n",
    "                cipher += self.key.get(char, char)  # Utiliser la substitution, sinon conserver le caractère tel quel\n",
    "            else:\n",
    "                cipher += char  # Si ce n'est pas une lettre, conserver le caractère tel quel\n",
    "        return cipher\n",
    "\n",
    "    def decode(self, cipher):\n",
    "        plain = \"\"\n",
    "        for char in cipher.upper():\n",
    "            if char.isalpha():  # Vérifier si le caractère est une lettre\n",
    "                plain += self.key_inv.get(char, char)  # Utiliser la substitution inverse, sinon conserver le caractère tel quel\n",
    "            else:\n",
    "                plain += char  # Si ce n'est pas une lettre, conserver le caractère tel quel\n",
    "        return plain\n",
    "\n",
    "def chosen_cipher(subs):\n",
    "    assert isinstance(subs, Subs)\n",
    "\n",
    "    # Déduire la clé en utilisant subs.decode()\n",
    "    LETTERS = 'ABCDEFGHIJKLMNOPQRSTUVWXYZ'\n",
    "    key = {}\n",
    "\n",
    "    for letter in LETTERS:\n",
    "        k = subs.decode(letter)\n",
    "        key[k] = letter\n",
    "\n",
    "    print(\"la clé de chiffrement est : {}\".format(key))\n",
    "    return key\n",
    "\n",
    "def chosen_plain(subs):\n",
    "    assert isinstance(subs, Subs)\n",
    "\n",
    "    # Déduire la clé en utilisant subs.encode() mais sans utiliser subs.decode()\n",
    "    key = subs.encode('ABCDEFGHIJKLMNOPQRSTUVWXYZ')\n",
    "\n",
    "    print(\"la clé de chiffrement est : {}\".format(key))\n",
    "    return key\n",
    "\n",
    "def known_plain(plain, cipher):\n",
    "    # Déduire une clé possible à partir de plain et cipher\n",
    "    key = {}\n",
    "    for p, c in zip(plain, cipher):\n",
    "        if p.isalpha() and c.isalpha():  # Vérifier si les caractères sont des lettres\n",
    "            key[p] = c\n",
    "\n",
    "    print(\"la clé de chiffrement est : {}\".format(key))\n",
    "    return key\n",
    "\n",
    "\n",
    "subs = Subs({'A': 'R', 'B': 'Y', 'C': 'B', 'D': 'Z', 'E': 'W', 'F': 'S', 'G': 'U', 'H': 'D', 'I': 'F', 'J': 'I', 'K': 'H', 'L': 'T', 'M': 'N', 'N': 'L', 'O': 'A', 'P': 'E', 'Q': 'K', 'R': 'G', 'S': 'C', 'T': 'P', 'U': 'Q', 'V': 'X', 'W': 'O', 'X': 'V', 'Y': 'M', 'Z': 'J'})\n",
    "print(subs.key)\n",
    "print(subs.key_inv)\n",
    "cipher = subs.encode(\"LA CIGALE AYANT CHANTE TOUT LETE SE TROUVA FORT DEPOURVUE QUAND LA BISE FUT VENUE\")\n",
    "print(cipher)\n",
    "print(subs.decode(\"TR BFURTW RMRLP BDRLPW PAQP TWPW CW PGAQXR SAGP ZWEAQGXQW KQRLZ TR YFCW SQP XWLQW\"))\n",
    "\n",
    "# Déduire la clé à partir de plain et cipher\n",
    "key = known_plain(\"LA CIGALE AYANT CHANTE TOUT LETE SE TROUVA FORT DEPOURVUE QUAND LA BISE FUT VENUE\", cipher)\n",
    "\n",
    "# Déduire la clé à partir de subs\n",
    "key = chosen_cipher(subs)\n",
    "\n",
    "# Déduire la clé à partir de subs\n",
    "key = chosen_plain(subs)"
   ]
  },
  {
   "cell_type": "markdown",
   "metadata": {},
   "source": [
    "Implémenter une attaque à texte chiffré seul par analyse de fréquences. Cette fonction sera raffinée en section 5."
   ]
  },
  {
   "cell_type": "code",
   "execution_count": 89,
   "metadata": {
    "ExecuteTime": {
     "end_time": "2024-03-11T17:00:34.263486Z",
     "start_time": "2024-03-11T17:00:34.249446Z"
    }
   },
   "outputs": [
    {
     "name": "stdout",
     "output_type": "stream",
     "text": [
      "TR BFURTW RMRLP BDRLPW PAQP TWPW CW PGAQXR SAGP ZWEAQGXQW KQRLZ TR YFCW SQP XWLQW\n",
      "RS OCGSRE SBSNA OVSNAE ATIA REAE DE AUTILS MTUA PEQTIULIE FISNP RS HCDE MIA LENIE\n",
      "{'E': 'W', 'A': 'P', 'S': 'R', 'I': 'Q', 'T': 'A', 'N': 'L', 'R': 'T', 'U': 'G', 'L': 'X', 'O': 'B', 'D': 'C', 'C': 'F', 'M': 'S', 'P': 'Z', 'V': 'D', 'Q': 'E', 'F': 'K', 'B': 'M', 'G': 'U', 'H': 'Y', 'J': 'H', 'X': 'I', 'Y': 'J', 'Z': 'N', 'W': 'O', 'K': 'V'}\n",
      "0.06829488919041157\n"
     ]
    }
   ],
   "source": [
    "def cipher_only(cipher):\n",
    "    key = {}\n",
    "\n",
    "    letter_iterations = calcul_iterations_letter_message(cipher)\n",
    "\n",
    "    sorted_cipher_letters = sorted(letter_iterations.items(), key=lambda x: x[1], reverse=True)\n",
    "    sorted_fr_letters = sorted(fr_frequencies.items(), key=lambda x: x[1], reverse=True)\n",
    "\n",
    "    for i in range(len(sorted_cipher_letters)):\n",
    "        key[sorted_fr_letters[i][0]] = sorted_cipher_letters[i][0]\n",
    "\n",
    "    subs = Subs(key)\n",
    "    plain = subs.decode(cipher)\n",
    "\n",
    "    coincidence = coincidence_index(letter_iterations, sum(letter_iterations.values()))\n",
    "\n",
    "    return plain, key, coincidence\n",
    "\n",
    "plain, key, coincidence = cipher_only(cipher)\n",
    "print(cipher)\n",
    "print(plain)\n",
    "print(key)\n",
    "print(coincidence) "
   ]
  },
  {
   "cell_type": "markdown",
   "metadata": {
    "id": "5N-gkK8RKf5c"
   },
   "source": [
    "Que constatez-vous ?\n",
    "\n",
    "Ici, on constate que l’attaque d’un texte chiffré seul ne fonctionne pas ou très peu. Pour cette implémentation, on calcule la fréquence de chaque lettre dans le message, puis l’on trie le tableau des fréquences par ordre décroissant. On trie également le tableau des fréquences des lettres de l’alphabet français et l’on fait correspondre les deux tableaux pour faire un mapping des lettres. Une erreur peut paraître logique en effet, car même un message de plusieurs lignes ne représente pas la répartition des lettres dans l’alphabet français et leur fréquence d’utilisation. Les erreurs sont donc récurrentes.\n",
    "Cependant, cette méthode de déchiffrage devrait, ou du moins être plus efficace sur des textes longs."
   ]
  },
  {
   "cell_type": "markdown",
   "metadata": {},
   "source": [
    "# 4.   Vigenère\n",
    "\n",
    "Adapter la classe `Cesar` pour chiffrer et déchiffrer un code de Vigenère.  Implémenter des méthodes d'attaque dans les cadres de texte chiffré choisi, texte clair choisi et texte clair connu. "
   ]
  },
  {
   "cell_type": "code",
   "execution_count": 90,
   "metadata": {
    "ExecuteTime": {
     "end_time": "2024-03-11T17:00:34.279130Z",
     "start_time": "2024-03-11T17:00:34.264483Z"
    }
   },
   "outputs": [],
   "source": [
    "from random import randint\n",
    "\n",
    "class Vigenere:\n",
    "    def __init__(self, key=None):\n",
    "        if key is None:\n",
    "            # Si aucune clé n'est fournie, générer une clé aléatoire\n",
    "            self.key = ''.join(chr(randint(65, 90)) for _ in range(randint(5, 10)))  # Génération d'une clé aléatoire\n",
    "        else:\n",
    "            self.key = key.upper()  # Assurez-vous que la clé est en majuscules\n",
    "\n",
    "    def encode(self, plain):\n",
    "        cipher = \"\"\n",
    "        key_length = len(self.key)\n",
    "        for i, char in enumerate(plain):\n",
    "            if char.isalpha():\n",
    "                shift = ord(self.key[i % key_length]) - 65  # Convertir la lettre de la clé en décalage\n",
    "                if char.islower():\n",
    "                    cipher += chr(((ord(char) - 97 + shift) % 26) + 97)\n",
    "                elif char.isupper():\n",
    "                    cipher += chr(((ord(char) - 65 + shift) % 26) + 65)\n",
    "            else:\n",
    "                cipher += char  # Conserver les caractères non alphabétiques inchangés\n",
    "        return cipher\n",
    "\n",
    "    def decode(self, cipher):\n",
    "        plain = \"\"\n",
    "        key_length = len(self.key)\n",
    "        for i, char in enumerate(cipher):\n",
    "            if char.isalpha():\n",
    "                shift = ord(self.key[i % key_length]) - 65  # Convertir la lettre de la clé en décalage\n",
    "                if char.islower():\n",
    "                    plain += chr(((ord(char) - 97 - shift) % 26) + 97)\n",
    "                elif char.isupper():\n",
    "                    plain += chr(((ord(char) - 65 - shift) % 26) + 65)\n",
    "            else:\n",
    "                plain += char  # Conserver les caractères non alphabétiques inchangés\n",
    "        return plain\n",
    "\n",
    "class DecryptVigenere:\n",
    "    def known_plain(self, plain, cipher):\n",
    "        # Déduire la clé à partir de plain et cipher\n",
    "        key = ''.join(chr(((ord(cipher[i]) - ord(plain[i])) % 26) + 65) for i in range(len(plain)))\n",
    "        return key\n",
    "\n",
    "    def chosen_cipher(self, vigenere):\n",
    "        assert isinstance(vigenere, Vigenere)\n",
    "        key_len = len(vigenere.key)\n",
    "        # Choisir un texte clair arbitraire\n",
    "        chosen_plain = \"ATTACKATDAWN\"\n",
    "        # Chiffrer le texte clair à l'aide de la méthode encode de l'objet Vigenere fourni\n",
    "        chosen_cipher = vigenere.encode(chosen_plain)\n",
    "        # Déduire la clé à partir du texte clair choisi et du texte chiffré résultant\n",
    "        key = ''.join(chr(((ord(chosen_cipher[i]) - ord(chosen_plain[i])) % 26) + 65) for i in range(len(chosen_plain)))\n",
    "        key = key[:key_len]\n",
    "        print(\"La clé de chiffrement est :\", key)\n",
    "        return key\n",
    "\n",
    "    def chosen_plain(self, vigenere):\n",
    "        assert isinstance(vigenere, Vigenere)\n",
    "        key_len = len(vigenere.key)\n",
    "        # Choisir un texte chiffré arbitraire\n",
    "        chosen_cipher = \"XFKLVXFKZHU\"\n",
    "        # Déchiffrer le texte chiffré à l'aide de la méthode decode de l'objet Vigenere fourni\n",
    "        chosen_plain = vigenere.decode(chosen_cipher)\n",
    "        # Déduire la clé à partir du texte chiffré choisi et du texte clair résultant\n",
    "        key = ''.join(chr(((ord(chosen_cipher[i]) - ord(chosen_plain[i])) % 26) + 65) for i in range(len(chosen_plain)))\n",
    "        key = key[:key_len]\n",
    "        print(\"La clé de chiffrement est :\", key)\n",
    "        return key\n"
   ]
  },
  {
   "cell_type": "markdown",
   "metadata": {},
   "source": [
    "## Test de Friedman\n",
    "Si la longueur de la clé est `k`, alors pour tout `i`, le sous-message formé par les lettres aux positions\n",
    "`i mod k` est chiffré avec un chiffrement de César. En particulier, son indice de coïncidence doit\n",
    "être proche de 0.07 (et non de 0.03).\n",
    "\n",
    "En utilisant ce critère, écrire une fonction qui détermine la longueur (la plus probable) de la\n",
    "clé. Écrire ensuite une fonction qui calcule la clé (la plus probable)."
   ]
  },
  {
   "cell_type": "code",
   "execution_count": 91,
   "metadata": {
    "ExecuteTime": {
     "end_time": "2024-03-11T17:00:34.295132Z",
     "start_time": "2024-03-11T17:00:34.280653Z"
    }
   },
   "outputs": [],
   "source": [
    "def friedman_length(cipher):\n",
    "    # Longueur maximale de la clé que nous allons tester\n",
    "    max_key_length = 20\n",
    "\n",
    "    # Longueur du texte chiffré\n",
    "    n = len(cipher)\n",
    "\n",
    "    # Recherche de la longueur de clé la plus probable\n",
    "    for k in range(1, max_key_length + 1):\n",
    "        # Calculer l'indice de coïncidence moyenne pour les sous-messages de longueur k\n",
    "        sum_coincidence = 0\n",
    "        for i in range(k):\n",
    "            # Extraire le sous-message formé par les lettres aux positions i modulo k\n",
    "            sub_message = cipher[i::k]\n",
    "            # Calculer l'indice de coïncidence du sous-message\n",
    "            sub_message_length = len(sub_message)\n",
    "            sub_coincidence = sum(sub_message.count(c) * (sub_message.count(c) - 1) for c in set(sub_message))\n",
    "            if sub_message_length > 1:\n",
    "                sub_coincidence /= (sub_message_length * (sub_message_length - 1))\n",
    "            sum_coincidence += sub_coincidence\n",
    "\n",
    "        # Calculer l'indice de coïncidence moyen pour toutes les positions\n",
    "        avg_coincidence = sum_coincidence / k\n",
    "\n",
    "        # Si l'indice de coïncidence moyen est proche de 0.07, nous avons probablement trouvé la longueur de la clé\n",
    "        if abs(avg_coincidence - 0.07) < 0.01:\n",
    "            return k\n",
    "\n",
    "    return None\n",
    "\n",
    "\n",
    "def cipher_only(cipher, key_length):\n",
    "    key = \"\"\n",
    "    for i in range(key_length):\n",
    "        # On obtient un sous-texte contenant les lettres chiffrées avec la même lettre de la clé\n",
    "        sub_cipher = cipher[i::key_length]\n",
    "        \n",
    "        # On trouve la fréquence des lettres dans le sous-texte\n",
    "        frequencies = calculate_frequencies(sub_cipher)\n",
    "        \n",
    "        # On trie les lettres par fréquence décroissante\n",
    "        sorted_letters = sorted(frequencies.keys(), key=lambda x: frequencies[x], reverse=True)\n",
    "        \n",
    "        # On déduit la lettre de la clé en supposant que la lettre la plus fréquente est la lettre 'E'\n",
    "        shift = (ord(sorted_letters[0]) - ord('E')) % 26\n",
    "        key += chr(shift + 65)\n",
    "    \n",
    "    return key\n",
    "\n",
    "def calculate_frequencies(text):\n",
    "    frequencies = {}\n",
    "    for char in text:\n",
    "        if char.isalpha():\n",
    "            char = char.upper()\n",
    "            if char in frequencies:\n",
    "                frequencies[char] += 1\n",
    "            else:\n",
    "                frequencies[char] = 1\n",
    "    return frequencies"
   ]
  },
  {
   "cell_type": "markdown",
   "metadata": {},
   "source": [
    "## Test de Babbage-Kasiski\n",
    "\n",
    "Implémenter une fonction qui détermine la liste des (positions des) sous-mots d’au moins\n",
    "`p` lettres apparaîssant plusieurs fois dans un message."
   ]
  },
  {
   "cell_type": "code",
   "execution_count": 92,
   "metadata": {
    "ExecuteTime": {
     "end_time": "2024-03-11T17:00:34.310654Z",
     "start_time": "2024-03-11T17:00:34.297269Z"
    }
   },
   "outputs": [],
   "source": [
    "import re\n",
    "def repetitions(cipher,p):\n",
    "    NONLETTRES_PATTERN = re.compile('[^A-Z]')\n",
    "    message = NONLETTRES_PATTERN.sub('', cipher.upper())\n",
    "    #taille max des chaines que l'on va chercher dans le texte. On ne devrait pas en mettre\n",
    "    #Elle est mise pour que ça mette moins de temps lors de tests sur des gros textes\n",
    "    maxLenRepetitions = 15\n",
    "\n",
    "    liste_sous_mots = {}\n",
    "    for sous_mot_len in range(p, maxLenRepetitions):\n",
    "        for sous_mot_start in range(len(message) - sous_mot_len):\n",
    "            seq = message[sous_mot_start:sous_mot_start + sous_mot_len]\n",
    "            for i in range(sous_mot_start + sous_mot_len, len(message) - sous_mot_len):\n",
    "                if message[i:i + sous_mot_len] == seq:\n",
    "                    if seq not in liste_sous_mots:\n",
    "                        liste_sous_mots[seq] = []\n",
    "                    liste_sous_mots[seq].append(i - sous_mot_start)\n",
    "    return liste_sous_mots"
   ]
  },
  {
   "cell_type": "markdown",
   "metadata": {},
   "source": [
    "La plupart de ces répétitions correspondent (sauf faux-positif) à des sous-mots du message en\n",
    "clair qui ont été chiffrés avec les mêmes portions de la clé. Dans ce cas, l’écart entre leurs positions\n",
    "est un multiple de la longueur de la clé. En déduire une fonction qui fournit la longueur (probable) de la clé."
   ]
  },
  {
   "cell_type": "code",
   "execution_count": 93,
   "metadata": {
    "ExecuteTime": {
     "end_time": "2024-03-11T17:00:34.326138Z",
     "start_time": "2024-03-11T17:00:34.312765Z"
    }
   },
   "outputs": [],
   "source": [
    "#taille max cherchée de la clé. On la met à 18. Idem, on pourrait mettre plus, mais ça n'a pas d'intérêt ici.\n",
    "MAX_LEN_CLE = 18\n",
    "def calcul_diviseurs(num):\n",
    "    if num < 2:\n",
    "        return []\n",
    "\n",
    "    l_diviseurs = []\n",
    "\n",
    "    for i in range(2, MAX_LEN_CLE + 1):\n",
    "        if num % i == 0:\n",
    "            l_diviseurs.append(i)\n",
    "            l_diviseurs.append(int(num / i))\n",
    "\n",
    "    if 1 in l_diviseurs:\n",
    "        l_diviseurs.remove(1)\n",
    "\n",
    "    return list(set(l_diviseurs))\n",
    "\n",
    "\n",
    "def iterations_diviseurs(liste_diviseurs):\n",
    "    nb_iterations_sous_mot = {}\n",
    "\n",
    "    for div in liste_diviseurs:\n",
    "        iterations_diviseurs = liste_diviseurs[div]\n",
    "        for cle in iterations_diviseurs:\n",
    "            if cle not in nb_iterations_sous_mot:\n",
    "                nb_iterations_sous_mot[cle] = 0\n",
    "            nb_iterations_sous_mot[cle] += 1\n",
    "\n",
    "    diviseur_avec_iterations = []\n",
    "    for diviseur in nb_iterations_sous_mot:\n",
    "        if diviseur <= MAX_LEN_CLE:\n",
    "            diviseur_avec_iterations.append((diviseur, nb_iterations_sous_mot[diviseur]))\n",
    "\n",
    "    diviseur_avec_iterations.sort(key= lambda x: x[1], reverse=True)\n",
    "    return diviseur_avec_iterations\n",
    "\n",
    "\n",
    "def bk_length(cipher):\n",
    "    liste_sous_mots = repetitions(cipher, 3)\n",
    "\n",
    "    liste_diviseurs = {}\n",
    "\n",
    "    for sous_mot in liste_sous_mots:\n",
    "        liste_diviseurs[sous_mot] = []\n",
    "        for div in liste_sous_mots[sous_mot]:\n",
    "            liste_diviseurs[sous_mot].extend(calcul_diviseurs(div))\n",
    "\n",
    "    liste_iterations_diviseurs = iterations_diviseurs(liste_diviseurs)\n",
    "    \n",
    "    cles_probables = []\n",
    "\n",
    "    for tuple_diviseurs in liste_iterations_diviseurs:\n",
    "        cles_probables.append(tuple_diviseurs[0])\n",
    "        \n",
    "    return cles_probables"
   ]
  },
  {
   "cell_type": "markdown",
   "metadata": {},
   "source": [
    "Construisez ensuite quelques exemples et testez les deux algorithmes."
   ]
  },
  {
   "cell_type": "code",
   "execution_count": 94,
   "metadata": {
    "ExecuteTime": {
     "end_time": "2024-03-11T17:00:34.342143Z",
     "start_time": "2024-03-11T17:00:34.328139Z"
    }
   },
   "outputs": [
    {
     "name": "stdout",
     "output_type": "stream",
     "text": [
      "Clé de chiffrement : TATEP\n",
      "Longueur de la clé : 5\n",
      "Clé de chiffrement : TATED\n",
      "Taux de correspondance : 0.8\n"
     ]
    }
   ],
   "source": [
    "def taux_correspondance(key1, key2):\n",
    "    #Retourne le taux de correspondance entre deux clés\n",
    "    if len(key1) != len(key2):\n",
    "        return\n",
    "    n = len(key1)\n",
    "    return sum(key1[i] == key2[i] for i in range(n)) / n\n",
    "\n",
    "\n",
    "vigenere = Vigenere()\n",
    "print(\"Clé de chiffrement : {}\".format(vigenere.key))\n",
    "plain = \"themodelcheckerperformsautomaticverificationofsafetyandboundedlivenesspropertiesittakesasinputanetworkoftimedautomataandaformulatheverifiercanalsobeusedinteractivelytoexamineseveralpropertiesofasystemincasetheverificationofaparticularrealtimesystemfailswhichhappensmoreoftenthannotadiagnostictraceisautomaticallyreportedinordertofacilitatedebuggingitispossibletoinstructtheverifiertooptimisethatistrytoreducetheverificationtimewhenseveralpropertiesofasystemareexaminedinsequenceasimilaroptionforspaceoptimisationalsoexistsx\" \n",
    "cipher = vigenere.encode(plain)\n",
    "\n",
    "length_key = friedman_length(cipher)\n",
    "print(\"Longueur de la clé : {}\".format(length_key))\n",
    "if length_key is not None:\n",
    "    key = cipher_only(cipher, length_key)\n",
    "    print(\"Clé de chiffrement : {}\".format(key))\n",
    "    print(\"Taux de correspondance : {}\".format(taux_correspondance(key, vigenere.key)))\n"
   ]
  },
  {
   "cell_type": "code",
   "execution_count": 95,
   "metadata": {
    "collapsed": false,
    "ExecuteTime": {
     "end_time": "2024-03-11T17:00:34.528323Z",
     "start_time": "2024-03-11T17:00:34.372764Z"
    }
   },
   "outputs": [
    {
     "name": "stdout",
     "output_type": "stream",
     "text": [
      "Clé de chiffrement : RBNGJ\n",
      "La taille de clé trouvée est :  5\n",
      "clé de base :  RBNGJ\n"
     ]
    }
   ],
   "source": [
    "vigenere = Vigenere()\n",
    "print(\"Clé de chiffrement : {}\".format(vigenere.key))\n",
    "plain = \"themodelcheckerperformsautomaticverificationofsafetyandboundedlivenesspropertiesittakesasinputanetworkoftimedautomataandaformulatheverifiercanalsobeusedinteractivelytoexamineseveralpropertiesofasystemincasetheverificationofaparticularrealtimesystemfailswhichhappensmoreoftenthannotadiagnostictraceisautomaticallyreportedinordertofacilitatedebuggingitispossibletoinstructtheverifiertooptimisethatistrytoreducetheverificationtimewhenseveralpropertiesofasystemareexaminedinsequenceasimilaroptionforspaceoptimisationalsoexistsx\" \n",
    "cipher = vigenere.encode(plain)\n",
    "cles_probables = bk_length(cipher)\n",
    "#Pour voir la liste des tailles de clé probables, par ordre de probabilité\n",
    "# print(\"les tailles de clés probables sont : \", cles_probables)\n",
    "print(\"La taille de clé trouvée est : \", cles_probables[0])\n",
    "print(\"clé de base : \", vigenere.key)"
   ]
  }
 ],
 "metadata": {
  "colab": {
   "collapsed_sections": [],
   "name": "IPC_TP1.ipynb",
   "provenance": []
  },
  "kernelspec": {
   "display_name": "Python 3",
   "language": "python",
   "name": "python3"
  },
  "language_info": {
   "codemirror_mode": {
    "name": "ipython",
    "version": 3
   },
   "file_extension": ".py",
   "mimetype": "text/x-python",
   "name": "python",
   "nbconvert_exporter": "python",
   "pygments_lexer": "ipython3",
   "version": "3.12.0"
  }
 },
 "nbformat": 4,
 "nbformat_minor": 1
}
